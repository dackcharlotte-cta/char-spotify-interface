{
 "cells": [
  {
   "cell_type": "code",
   "execution_count": 6,
   "id": "5d44f64b-3cfd-48a5-a94b-c657d7738987",
   "metadata": {},
   "outputs": [],
   "source": [
    "import spotipy\n",
    "import json\n",
    "import urllib.request\n",
    "import spotipy.util as util\n",
    "import webbrowser"
   ]
  },
  {
   "cell_type": "code",
   "execution_count": 19,
   "id": "665b13a1-7635-4bef-86ae-d3bd1c123c4e",
   "metadata": {},
   "outputs": [],
   "source": [
    "#get key\n",
    "with open('weather_key.txt', 'r') as weather_file:\n",
    "    weather_key = weather_file.read() "
   ]
  },
  {
   "cell_type": "code",
   "execution_count": 10,
   "id": "3f953b5f-5512-49ca-9051-e456c8da0b50",
   "metadata": {},
   "outputs": [],
   "source": [
    "url = f\"http://api.weatherapi.com/v1/current.json?key={weather_key}&q=London&aqi=no\""
   ]
  },
  {
   "cell_type": "code",
   "execution_count": 14,
   "id": "53d3a656-3760-4ec8-9f47-4bfc5a790f35",
   "metadata": {},
   "outputs": [
    {
     "name": "stdout",
     "output_type": "stream",
     "text": [
      "<http.client.HTTPResponse object at 0x0000026157D69480>\n"
     ]
    }
   ],
   "source": [
    "#sending our Url to the interweb\n",
    "request = urllib.request.Request(url) \n",
    "#caoture all the JSON coming back form the interwebs, status code for website work is 200, error is like 400 \n",
    "response = urllib.request.urlopen(request)\n",
    "print(reponse) "
   ]
  },
  {
   "cell_type": "code",
   "execution_count": 15,
   "id": "ef8bf1d9-6095-4d52-8b30-98866ee24310",
   "metadata": {},
   "outputs": [],
   "source": [
    "weather_json = json.loads(response.read()) "
   ]
  },
  {
   "cell_type": "code",
   "execution_count": 16,
   "id": "cbac96fb-d6a1-46d0-b706-2bd84a6b9081",
   "metadata": {},
   "outputs": [
    {
     "name": "stdout",
     "output_type": "stream",
     "text": [
      "{'location': {'name': 'London', 'region': 'City of London, Greater London', 'country': 'United Kingdom', 'lat': 51.5171, 'lon': -0.1062, 'tz_id': 'Europe/London', 'localtime_epoch': 1730215381, 'localtime': '2024-10-29 15:23'}, 'current': {'last_updated_epoch': 1730214900, 'last_updated': '2024-10-29 15:15', 'temp_c': 15.1, 'temp_f': 59.2, 'is_day': 1, 'condition': {'text': 'Overcast', 'icon': '//cdn.weatherapi.com/weather/64x64/day/122.png', 'code': 1009}, 'wind_mph': 3.1, 'wind_kph': 5.0, 'wind_degree': 259, 'wind_dir': 'W', 'pressure_mb': 1024.0, 'pressure_in': 30.24, 'precip_mm': 0.0, 'precip_in': 0.0, 'humidity': 82, 'cloud': 50, 'feelslike_c': 15.1, 'feelslike_f': 59.2, 'windchill_c': 15.1, 'windchill_f': 59.1, 'heatindex_c': 14.7, 'heatindex_f': 58.4, 'dewpoint_c': 10.0, 'dewpoint_f': 50.0, 'vis_km': 10.0, 'vis_miles': 6.0, 'uv': 0.5, 'gust_mph': 4.9, 'gust_kph': 8.0}}\n"
     ]
    }
   ],
   "source": [
    "print(weather_json) \n"
   ]
  },
  {
   "cell_type": "code",
   "execution_count": 18,
   "id": "a8307dcd-eb19-498b-8626-6aa75e7a37a5",
   "metadata": {},
   "outputs": [
    {
     "name": "stdout",
     "output_type": "stream",
     "text": [
      "Overcast\n"
     ]
    }
   ],
   "source": [
    "print(weather_json[\"current\"][\"condition\"][\"text\"]) "
   ]
  },
  {
   "cell_type": "code",
   "execution_count": null,
   "id": "51256839-5cad-4bcb-9698-7b965ed63473",
   "metadata": {},
   "outputs": [],
   "source": []
  }
 ],
 "metadata": {
  "kernelspec": {
   "display_name": "Python 3 (ipykernel)",
   "language": "python",
   "name": "python3"
  },
  "language_info": {
   "codemirror_mode": {
    "name": "ipython",
    "version": 3
   },
   "file_extension": ".py",
   "mimetype": "text/x-python",
   "name": "python",
   "nbconvert_exporter": "python",
   "pygments_lexer": "ipython3",
   "version": "3.12.7"
  }
 },
 "nbformat": 4,
 "nbformat_minor": 5
}
